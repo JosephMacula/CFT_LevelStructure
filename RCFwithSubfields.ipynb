{
 "cells": [
  {
   "cell_type": "code",
   "execution_count": 48,
   "id": "7f00ca00-1903-42fc-a7ed-390ae71a2d9e",
   "metadata": {},
   "outputs": [],
   "source": [
    "#All generating polynomials obtained from the attached magma code.\n",
    "R.<r> = NumberField(x^16 + 60*x^14 + 1394*x^12 + 14840*x^10 + 51651*x^8 - 77800*x^6 + 17274*x^4 + 404420*x^2 + 32041)\n",
    "K.<k> = NumberField(x^2 + 502*x + 443881)\n",
    "H1.<h1> = NumberField(x^4 + 52*x^3 + 894*x^2 + 20068*x + 443881)\n",
    "H2.<h2> = NumberField(x^4 - 332*x^3 + 85374*x^2 + 381412*x + 443881)\n",
    "H3.<h3> = NumberField(x^4 + 42*x^3 + 659*x^2 + 22578*x + 443881)"
   ]
  },
  {
   "cell_type": "code",
   "execution_count": 49,
   "id": "f1d088b2-eda4-4da5-abf5-a3453428bd67",
   "metadata": {},
   "outputs": [
    {
     "data": {
      "text/plain": [
       "(x - 226304/7503*h3^3 - 8939008/7503*h3^2 + 14709760/7503*h3 - 6916734016/7503) * (x + 226304/7503*h3^3 + 8939008/7503*h3^2 - 14709760/7503*h3 - 2567057984/7503)"
      ]
     },
     "execution_count": 49,
     "metadata": {},
     "output_type": "execute_result"
    }
   ],
   "source": [
    "hcp = K.hilbert_class_polynomial()\n",
    "hcp.change_ring(H3).factor()\n",
    "# So H3 is the real Hilbert Class Field"
   ]
  },
  {
   "cell_type": "code",
   "execution_count": 62,
   "id": "e77cbb52-ab29-4e0b-a758-6ccd4d2a768d",
   "metadata": {},
   "outputs": [
    {
     "data": {
      "text/plain": [
       "4"
      ]
     },
     "execution_count": 62,
     "metadata": {},
     "output_type": "execute_result"
    }
   ],
   "source": [
    "R1.<r1> = NumberField(x^8 + 60*x^7 + 1458*x^6 + 16440*x^5 + 69059*x^4 - 86760*x^3 + 1722*x^2 + 106500*x + 443881)\n",
    "_.<X1> = R1[]\n",
    "len(H3.embeddings(R1))"
   ]
  },
  {
   "cell_type": "code",
   "execution_count": 63,
   "id": "f8c3eac4-9fcd-4fef-97cb-799abb07c286",
   "metadata": {},
   "outputs": [
    {
     "data": {
      "text/plain": [
       "4"
      ]
     },
     "execution_count": 63,
     "metadata": {},
     "output_type": "execute_result"
    }
   ],
   "source": [
    "R2.<r2> = NumberField(x^8 + 4*x^7 + 114*x^6 + 808*x^5 + 7619*x^4 + 5576*x^3 + 45626*x^2 + 236892*x + 443881)\n",
    "_.<X2> = R2[]\n",
    "len(H3.embeddings(R2))"
   ]
  },
  {
   "cell_type": "code",
   "execution_count": 64,
   "id": "c933c40d-0b28-43ac-9460-e683f4ccfb60",
   "metadata": {},
   "outputs": [
    {
     "data": {
      "text/plain": [
       "4"
      ]
     },
     "execution_count": 64,
     "metadata": {},
     "output_type": "execute_result"
    }
   ],
   "source": [
    "R3.<r3> = NumberField(x^8 + 12*x^7 + 162*x^6 + 960*x^5 + 5411*x^4 + 23760*x^3 + 115338*x^2 + 377436*x + 443881)\n",
    "_.<X3> = R3[]\n",
    "len(H3.embeddings(R3))"
   ]
  },
  {
   "cell_type": "code",
   "execution_count": 80,
   "id": "fc32c519-81d1-4a51-a003-408957a6cf2d",
   "metadata": {},
   "outputs": [
    {
     "name": "stdout",
     "output_type": "stream",
     "text": [
      "5 5 1\n"
     ]
    }
   ],
   "source": [
    "E = EllipticCurve(H3,j=hcp.change_ring(H3).roots(multiplicities=False)[0])\n",
    "divpoly = E.division_polynomial(6)\n",
    "LinFacs = []\n",
    "QuadFacs = []\n",
    "QuartFac = []\n",
    "for fac in divpoly.factor():\n",
    "    if fac[0].degree() == 1:\n",
    "        LinFacs.append(fac[0])\n",
    "    if fac[0].degree() == 2:\n",
    "        QuadFacs.append(fac[0])\n",
    "    if fac[0].degree() == 4:\n",
    "        QuartFac.append(fac[0])\n",
    "print(len(LinFacs),len(QuadFacs),len(QuartFac))"
   ]
  },
  {
   "cell_type": "code",
   "execution_count": 81,
   "id": "7ac8a1dd-c3c0-4d93-bade-94aa010c15fb",
   "metadata": {},
   "outputs": [
    {
     "name": "stdout",
     "output_type": "stream",
     "text": [
      "2\n",
      "1\n",
      "1\n",
      "2\n",
      "1\n",
      "1\n",
      "2\n",
      "\n",
      "2\n",
      "2\n"
     ]
    }
   ],
   "source": [
    "r1_emb = H3.embeddings(R1)[0]\n",
    "for divpol in QuadFacs:\n",
    "    r1_divpoly = 0\n",
    "    for k in range(divpol.degree()+1):\n",
    "        r1_divpoly += (X1^k)*r1_emb(divpol[k])\n",
    "    for fac in r1_divpoly.factor():\n",
    "        print(fac[0].degree())\n",
    "print(\"\")\n",
    "for divpol in QuartFac:\n",
    "    r1_divpoly = 0\n",
    "    for k in range(divpol.degree()+1):\n",
    "        r1_divpoly += (X1^k)*r1_emb(divpol[k])\n",
    "    for fac in r1_divpoly.factor():\n",
    "        print(fac[0].degree())"
   ]
  },
  {
   "cell_type": "code",
   "execution_count": 82,
   "id": "d98203ed-636b-4c32-8024-08d7b86d5ffc",
   "metadata": {},
   "outputs": [
    {
     "name": "stdout",
     "output_type": "stream",
     "text": [
      "1\n",
      "1\n",
      "2\n",
      "1\n",
      "1\n",
      "2\n",
      "1\n",
      "1\n",
      "\n",
      "2\n",
      "2\n"
     ]
    }
   ],
   "source": [
    "r2_emb = H3.embeddings(R2)[0]\n",
    "for divpol in QuadFacs:\n",
    "    r2_divpoly = 0\n",
    "    for k in range(divpol.degree()+1):\n",
    "        r2_divpoly += (X2^k)*r2_emb(divpol[k])\n",
    "    for fac in r2_divpoly.factor():\n",
    "        print(fac[0].degree())\n",
    "print(\"\")\n",
    "for divpol in QuartFac:\n",
    "    r2_divpoly = 0\n",
    "    for k in range(divpol.degree()+1):\n",
    "        r2_divpoly += (X2^k)*r2_emb(divpol[k])\n",
    "    for fac in r2_divpoly.factor():\n",
    "        print(fac[0].degree())"
   ]
  },
  {
   "cell_type": "code",
   "execution_count": 86,
   "id": "0d2ca8ba-8dff-4e46-95c9-4bec2ab9ef54",
   "metadata": {},
   "outputs": [
    {
     "name": "stdout",
     "output_type": "stream",
     "text": [
      "2\n",
      "2\n",
      "2\n",
      "2\n",
      "2\n",
      "\n",
      "2\n",
      "2\n"
     ]
    }
   ],
   "source": [
    "r3_emb = H3.embeddings(R3)[0]\n",
    "for divpol in QuadFacs:\n",
    "    r3_divpoly = 0\n",
    "    for k in range(divpol.degree()+1):\n",
    "        r3_divpoly += (X3^k)*r3_emb(divpol[k])\n",
    "    for fac in r3_divpoly.factor():\n",
    "        print(fac[0].degree())\n",
    "print(\"\")\n",
    "for divpol in QuartFac:\n",
    "    r3_divpoly = 0\n",
    "    for k in range(divpol.degree()+1):\n",
    "        r3_divpoly += (X3^k)*r3_emb(divpol[k])\n",
    "    for fac in r3_divpoly.factor():\n",
    "        print(fac[0].degree())"
   ]
  },
  {
   "cell_type": "code",
   "execution_count": 89,
   "id": "94e93b8c-2c5b-4e41-b168-b52a138d15cb",
   "metadata": {},
   "outputs": [
    {
     "data": {
      "text/plain": [
       "(2^8 * 3^4 * 5^4, 2^12 * 5^4, 2^12 * 3^4 * 5^4)"
      ]
     },
     "execution_count": 89,
     "metadata": {},
     "output_type": "execute_result"
    }
   ],
   "source": [
    "R1.discriminant().factor(),R2.discriminant().factor(),R3.discriminant().factor()"
   ]
  },
  {
   "cell_type": "code",
   "execution_count": null,
   "id": "2a5e197c-eda6-4e4d-927d-d02eaeca55db",
   "metadata": {},
   "outputs": [],
   "source": []
  }
 ],
 "metadata": {
  "kernelspec": {
   "display_name": "SageMath 10.4",
   "language": "sage",
   "name": "sagemath-10.4"
  },
  "language_info": {
   "codemirror_mode": {
    "name": "ipython",
    "version": 3
   },
   "file_extension": ".py",
   "mimetype": "text/x-python",
   "name": "python",
   "nbconvert_exporter": "python",
   "pygments_lexer": "ipython3",
   "version": "3.12.4"
  }
 },
 "nbformat": 4,
 "nbformat_minor": 5
}
